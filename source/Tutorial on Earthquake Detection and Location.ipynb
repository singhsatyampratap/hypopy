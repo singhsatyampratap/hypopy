{
 "cells": [
  {
   "cell_type": "code",
   "execution_count": 1,
   "id": "b2b26dac",
   "metadata": {},
   "outputs": [],
   "source": [
    "import obspy\n",
    "import hypopy\n",
    "import matplotlib.pyplot as plt\n",
    "import numpy as np\n",
    "from obspy.signal.trigger import pk_baer,ar_pick\n"
   ]
  },
  {
   "cell_type": "markdown",
   "id": "57d5eb2e",
   "metadata": {},
   "source": [
    "# Input and Output File name\n"
   ]
  },
  {
   "cell_type": "code",
   "execution_count": 2,
   "id": "cc14f4f4",
   "metadata": {},
   "outputs": [],
   "source": [
    "Station_filename=\"Station\"\n",
    "Model_name=\"Model1\"\n",
    "Phase_filename=\"Picked_Phases\"\n",
    "Output_filename=\"Located_eq\""
   ]
  },
  {
   "cell_type": "markdown",
   "id": "30ac9c82",
   "metadata": {},
   "source": [
    "# Downloading the Station Data"
   ]
  },
  {
   "cell_type": "code",
   "execution_count": null,
   "id": "493edba9",
   "metadata": {},
   "outputs": [],
   "source": [
    "from obspy import UTCDateTime\n",
    "from obspy.clients.fdsn import Client\n",
    "\n",
    "client = Client(\"IRIS\")\n",
    "t = UTCDateTime(\"2011-03-11T05:46:23\")  # Tohoku\n",
    "inv = client.get_stations(network=\"II\",station= \"*\",channel=\"*\",minlatitude=-15,maxlatitude=85, minlongitude=70 ,maxlongitude=120,  starttime=t + 10 * 60, endtime=t + 30 * 60)\n",
    "print(inv)"
   ]
  },
  {
   "cell_type": "code",
   "execution_count": null,
   "id": "259b19f3",
   "metadata": {},
   "outputs": [],
   "source": [
    "network=inv[0]\n",
    "n=len(network)\n",
    "print(\"Total number of station in the Network= {}\".format(n))"
   ]
  },
  {
   "cell_type": "code",
   "execution_count": null,
   "id": "46c8e11f",
   "metadata": {},
   "outputs": [],
   "source": [
    "inv.plot()"
   ]
  },
  {
   "cell_type": "markdown",
   "id": "f9bea8cc",
   "metadata": {},
   "source": [
    "# Creating a Hypoinverse Station file"
   ]
  },
  {
   "cell_type": "code",
   "execution_count": null,
   "id": "32c29879",
   "metadata": {},
   "outputs": [],
   "source": [
    "network_name=\"II\"\n",
    "for i in range(n):\n",
    "    hypopy.add_station(Station_filename,network[i].code,network_name,\"BHZ\",network[i].latitude,network[i].longitude,network[i].elevation)\n",
    "    hypopy.add_station(Station_filename,network[i].code,network_name,\"BH1\",network[i].latitude,network[i].longitude,network[i].elevation)\n",
    "    hypopy.add_station(Station_filename,network[i].code,network_name,\"BH2\",network[i].latitude,network[i].longitude,network[i].elevation)"
   ]
  },
  {
   "cell_type": "markdown",
   "id": "59aff3e9",
   "metadata": {},
   "source": [
    "# Downloading Waveform Data"
   ]
  },
  {
   "cell_type": "code",
   "execution_count": null,
   "id": "8c7505b0",
   "metadata": {},
   "outputs": [],
   "source": [
    "from obspy import UTCDateTime\n",
    "from obspy.clients.fdsn import Client\n",
    "from obspy import Stream\n",
    "stns=[\"AAK\",\"COCO\",\"BRVK\",\"KAPI\"]\n",
    "st=Stream()\n",
    "for stn in stns:\n",
    "    try:\n",
    "        \n",
    "        client = Client(\"IRIS\")\n",
    "        t = UTCDateTime(\"2011-03-11T05:46:23\")  # Tohoku\n",
    "        st += client.get_waveforms(\"II\", stn, \"*\", \"BH*\", t - 10 * 60, t + 30 * 60)\n",
    "    except:\n",
    "        pass\n",
    "\n",
    "print(st)\n",
    "#st.plot()"
   ]
  },
  {
   "cell_type": "markdown",
   "id": "3ab6b3e7",
   "metadata": {},
   "source": [
    "# Processing Waveform Data"
   ]
  },
  {
   "cell_type": "code",
   "execution_count": null,
   "id": "5fe910cf",
   "metadata": {},
   "outputs": [],
   "source": [
    "st.detrend(\"linear\")\n",
    "st.taper(max_percentage=0.05, type='cosine')"
   ]
  },
  {
   "cell_type": "code",
   "execution_count": null,
   "id": "e165193d",
   "metadata": {},
   "outputs": [],
   "source": [
    "st[0].stats.location"
   ]
  },
  {
   "cell_type": "markdown",
   "id": "18ea6b2c",
   "metadata": {},
   "source": [
    "# Picking and adding P Phases"
   ]
  },
  {
   "cell_type": "code",
   "execution_count": null,
   "id": "0e302c85",
   "metadata": {},
   "outputs": [],
   "source": [
    "#Automatic\n",
    "for i in range(len(st)):\n",
    "    station=st[i].stats.station\n",
    "    net=st[i].stats.network\n",
    "    df = st[i].stats.sampling_rate\n",
    "    channel=st[i].stats.channel\n",
    "    #p_pick, s_pick = ar_pick(st[0].data, st[1].data, st[2].data, df, 1.0, 20.0, 600.0, 40.0, 500.0, 40.0, 50, 50, 10, 20)\n",
    "    p_pick, phase_info = pk_baer(st[i].data, df, 2000, 6000, 7700.0, 1220.0, 100, 100)\n",
    "    #p_pick/df\n",
    "    ax = plt.subplot(211)\n",
    "    plt.plot(st[i].data, 'k')\n",
    "    ymin, ymax = ax.get_ylim()\n",
    "    plt.vlines(p_pick, ymin, ymax, color='r', linewidth=2)\n",
    "    plt.axis('tight')\n",
    "    plt.show()\n",
    "    print(\"Your automatic P pick is at {} sample\".format(p_pick))\n",
    "\n",
    "    #Manual\n",
    "    p_pick = int(input(\"Enter your accurate p_pick value: \"))\n",
    "\n",
    "    #p_pick=50004\n",
    "    ax = plt.subplot(211)\n",
    "    plt.plot(st[i].data, 'k')\n",
    "    ymin, ymax = ax.get_ylim()\n",
    "    plt.vlines(p_pick, ymin, ymax, color='r', linewidth=2)\n",
    "    plt.axis('tight')\n",
    "    plt.show()\n",
    "    print(\"Your P pick is at {} sample\".format(p_pick))\n",
    "    trail=int(input(\"Do you want to keep this pick(1) or skip(2)?\"))\n",
    "\n",
    "\n",
    "    p_pick=p_pick/df\n",
    "    t=st[0].stats.starttime\n",
    "    p_arrival_time=t+p_pick\n",
    "    if trail==1:\n",
    "        hypopy.add_picks(Phase_filename,station,net,channel,p_arrival_time,s_arrival_time=0)\n",
    "    \n",
    "    else:\n",
    "        continue\n",
    "    #s_arrival_time=t+s_pick\n",
    "\n"
   ]
  },
  {
   "cell_type": "markdown",
   "id": "da215aa2",
   "metadata": {},
   "source": [
    "# Creating a Phase File"
   ]
  },
  {
   "cell_type": "code",
   "execution_count": null,
   "id": "00d167f4",
   "metadata": {},
   "outputs": [],
   "source": [
    "evid=2000001\n",
    "trial_origintime=st[0].stats.starttime\n",
    "trial_latitude=network[0].latitude\n",
    "trial_longitude=network[0].longitude\n",
    "hypopy.create_phase_file(Phase_filename,evid,trial_origintime,trial_latitude,trial_longitude)"
   ]
  },
  {
   "cell_type": "markdown",
   "id": "8d2fc989",
   "metadata": {},
   "source": [
    "# Creating A Velocity Model"
   ]
  },
  {
   "cell_type": "code",
   "execution_count": 3,
   "id": "81a37209",
   "metadata": {},
   "outputs": [
    {
     "name": "stdout",
     "output_type": "stream",
     "text": [
      "Model file successfully created as Model1.crh\n"
     ]
    },
    {
     "data": {
      "text/plain": [
       "[<matplotlib.lines.Line2D at 0x7f680d48cbe0>]"
      ]
     },
     "execution_count": 3,
     "metadata": {},
     "output_type": "execute_result"
    },
    {
     "data": {
      "image/png": "[encoded data removed]",
      "text/plain": [
       "<Figure size 432x288 with 1 Axes>"
      ]
     },
     "metadata": {
      "needs_background": "light"
     },
     "output_type": "display_data"
    }
   ],
   "source": [
    "v=[4.43,5.12,5.47,5.56,5.62,5.86,7.9]\n",
    "d=[0.0,1.5,3,4.25,6.0,8.00,21]\n",
    "Model_name='Model1'\n",
    "hypopy.model(Model_name,v,d)\n",
    "\n",
    "plt.step(np.array(v),-np.array(d))"
   ]
  },
  {
   "cell_type": "markdown",
   "id": "72e6b8a7",
   "metadata": {},
   "source": [
    "# Input file for Hypoinverse"
   ]
  },
  {
   "cell_type": "code",
   "execution_count": 4,
   "id": "125649de",
   "metadata": {},
   "outputs": [
    {
     "name": "stdout",
     "output_type": "stream",
     "text": [
      "Open terminal in working directory run:\n",
      "./hyp1.40\n",
      "Then run:\n",
      "@Located_eq.hyp\n"
     ]
    }
   ],
   "source": [
    "hypopy.locate(Model_name,Station_filename,Phase_filename,Output_filename)"
   ]
  },
  {
   "cell_type": "code",
   "execution_count": 5,
   "id": "565791aa",
   "metadata": {},
   "outputs": [
    {
     "ename": "ModuleNotFoundError",
     "evalue": "No module named 'pandas'",
     "output_type": "error",
     "traceback": [
      "\u001b[0;31m---------------------------------------------------------------------------\u001b[0m",
      "\u001b[0;31mModuleNotFoundError\u001b[0m                       Traceback (most recent call last)",
      "\u001b[0;32m/tmp/ipykernel_38056/4273518146.py\u001b[0m in \u001b[0;36m<module>\u001b[0;34m\u001b[0m\n\u001b[1;32m      1\u001b[0m \u001b[0mhypopy\u001b[0m\u001b[0;34m.\u001b[0m\u001b[0mexport_located\u001b[0m\u001b[0;34m(\u001b[0m\u001b[0mOutput_filename\u001b[0m\u001b[0;34m)\u001b[0m\u001b[0;34m\u001b[0m\u001b[0;34m\u001b[0m\u001b[0m\n\u001b[0;32m----> 2\u001b[0;31m \u001b[0;32mimport\u001b[0m \u001b[0mpandas\u001b[0m \u001b[0;32mas\u001b[0m \u001b[0mpd\u001b[0m\u001b[0;34m\u001b[0m\u001b[0;34m\u001b[0m\u001b[0m\n\u001b[0m\u001b[1;32m      3\u001b[0m \u001b[0mdf\u001b[0m\u001b[0;34m=\u001b[0m\u001b[0mpd\u001b[0m\u001b[0;34m.\u001b[0m\u001b[0mread_csv\u001b[0m\u001b[0;34m(\u001b[0m\u001b[0;34m\"Located.csv\"\u001b[0m\u001b[0;34m)\u001b[0m\u001b[0;34m\u001b[0m\u001b[0;34m\u001b[0m\u001b[0m\n\u001b[1;32m      4\u001b[0m \u001b[0mdf\u001b[0m\u001b[0;34m\u001b[0m\u001b[0;34m\u001b[0m\u001b[0m\n",
      "\u001b[0;31mModuleNotFoundError\u001b[0m: No module named 'pandas'"
     ]
    }
   ],
   "source": [
    "hypopy.export_located(Output_filename)\n",
    "import pandas as pd\n",
    "df=pd.read_csv(\"Located.csv\")\n",
    "df"
   ]
  },
  {
   "cell_type": "code",
   "execution_count": null,
   "id": "d93ab70c",
   "metadata": {},
   "outputs": [],
   "source": []
  }
 ],
 "metadata": {
  "kernelspec": {
   "display_name": "Python 3 (ipykernel)",
   "language": "python",
   "name": "python3"
  },
  "language_info": {
   "codemirror_mode": {
    "name": "ipython",
    "version": 3
   },
   "file_extension": ".py",
   "mimetype": "text/x-python",
   "name": "python",
   "nbconvert_exporter": "python",
   "pygments_lexer": "ipython3",
   "version": "3.9.7"
  }
 },
 "nbformat": 4,
 "nbformat_minor": 5
}
